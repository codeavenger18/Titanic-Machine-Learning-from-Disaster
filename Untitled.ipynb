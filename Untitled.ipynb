{
 "cells": [
  {
   "cell_type": "code",
   "execution_count": 1,
   "metadata": {},
   "outputs": [],
   "source": [
    "import pandas as pd\n",
    "from sklearn.neighbors import KNeighborsClassifier\n",
    "from sklearn.model_selection import GridSearchCV\n",
    "from sklearn.preprocessing import Imputer\n",
    "from sklearn.pipeline import Pipeline\n",
    "from sklearn.preprocessing import StandardScaler,scale,MinMaxScaler\n",
    "from sklearn.ensemble import RandomForestClassifier\n",
    "from sklearn.linear_model import LogisticRegression,LinearRegression,Lasso\n",
    "from sklearn.metrics import roc_curve,roc_auc_score\n",
    "import numpy as np\n",
    "import math\n",
    "import matplotlib.pyplot as plt\n",
    "from sklearn import datasets\n",
    "import seaborn as sns\n",
    "import warnings\n",
    "warnings.filterwarnings('ignore')\n",
    "%matplotlib inline\n",
    "df=pd.read_csv('train.csv')\n",
    "df1=pd.read_csv('test.csv')"
   ]
  },
  {
   "cell_type": "code",
   "execution_count": 2,
   "metadata": {},
   "outputs": [],
   "source": [
    "df.Cabin.replace(np.nan,'NC',inplace=True)\n",
    "df1.Cabin.replace(np.nan,'NC',inplace=True)\n",
    "df.Embarked.replace(np.nan,'N',inplace=True)\n",
    "df1.Embarked.replace(np.nan,'N',inplace=True)\n",
    "df['Embarked']=df['Embarked'].replace(['S','C','Q','N'],[0,1,2,3])\n",
    "df1['Embarked']=df1['Embarked'].replace(['S','C','Q','N'],[0,1,2,3])\n",
    "df['Sex']=df['Sex'].replace(['male','female'],[0,1])\n",
    "df1['Sex']=df1['Sex'].replace(['male','female'],[0,1])"
   ]
  },
  {
   "cell_type": "code",
   "execution_count": 22,
   "metadata": {},
   "outputs": [
    {
     "name": "stdout",
     "output_type": "stream",
     "text": [
      "14.4542\n",
      "14.4542\n",
      "<class 'pandas.core.frame.DataFrame'>\n",
      "RangeIndex: 418 entries, 0 to 417\n",
      "Data columns (total 13 columns):\n",
      "PassengerId    418 non-null int64\n",
      "Pclass         418 non-null int64\n",
      "Name           418 non-null object\n",
      "Sex            418 non-null int64\n",
      "Age            418 non-null float64\n",
      "SibSp          418 non-null int64\n",
      "Parch          418 non-null int64\n",
      "Ticket         418 non-null object\n",
      "Fare           418 non-null float64\n",
      "Cabin          418 non-null object\n",
      "Embarked       418 non-null int64\n",
      "gp_age         418 non-null float64\n",
      "f_cnt          418 non-null int64\n",
      "dtypes: float64(3), int64(7), object(3)\n",
      "memory usage: 42.5+ KB\n"
     ]
    }
   ],
   "source": [
    "median=np.median(df['Fare'])\n",
    "print(median)\n",
    "df.Fare.replace(0,median,inplace=True)\n",
    "median=np.median(df1['Fare'])\n",
    "print(median)\n",
    "df1.Fare.replace(np.nan,median,inplace=True)\n",
    "df1.Fare.replace(0,median,inplace=True)\n",
    "df1.info()"
   ]
  },
  {
   "cell_type": "code",
   "execution_count": 23,
   "metadata": {},
   "outputs": [
    {
     "name": "stdout",
     "output_type": "stream",
     "text": [
      "29.69911764705882\n",
      "30.272590361445783\n",
      "<class 'pandas.core.frame.DataFrame'>\n",
      "RangeIndex: 418 entries, 0 to 417\n",
      "Data columns (total 13 columns):\n",
      "PassengerId    418 non-null int64\n",
      "Pclass         418 non-null int64\n",
      "Name           418 non-null object\n",
      "Sex            418 non-null int64\n",
      "Age            418 non-null float64\n",
      "SibSp          418 non-null int64\n",
      "Parch          418 non-null int64\n",
      "Ticket         418 non-null object\n",
      "Fare           418 non-null float64\n",
      "Cabin          418 non-null object\n",
      "Embarked       418 non-null int64\n",
      "gp_age         418 non-null float64\n",
      "f_cnt          418 non-null int64\n",
      "dtypes: float64(3), int64(7), object(3)\n",
      "memory usage: 42.5+ KB\n"
     ]
    }
   ],
   "source": [
    "mean=np.mean(df['Age'])\n",
    "df['gp_age']=df['Age']\n",
    "df1['gp_age']=df1['Age']\n",
    "print(mean)\n",
    "for x in range(891):\n",
    "    if math.isnan(df.loc[x,'Age']):\n",
    "        df.loc[x,'Age']=mean\n",
    "    if df.loc[x,'Age'] < 16:\n",
    "        df.loc[x,'gp_age']=0\n",
    "    elif df.loc[x,'Age'] < 32:\n",
    "        df.loc[x,'gp_age']=1\n",
    "    elif df.loc[x,'Age'] < 48:\n",
    "        df.loc[x,'gp_age']=2\n",
    "    elif df.loc[x,'Age'] < 64:\n",
    "        df.loc[x,'gp_age']=3\n",
    "    elif df.loc[x,'Age'] <= 80:\n",
    "        df.loc[x,'gp_age']=4\n",
    "mean=np.mean(df1['Age'])\n",
    "print(mean)\n",
    "for x in range(418):\n",
    "    if math.isnan(df1.loc[x,'Age']):\n",
    "        df1.loc[x,'Age']=mean\n",
    "    if df1.loc[x,'Age'] < 16:\n",
    "        df1.loc[x,'gp_age']=0\n",
    "    elif df1.loc[x,'Age'] < 32:\n",
    "        df1.loc[x,'gp_age']=1\n",
    "    elif df1.loc[x,'Age'] < 48:\n",
    "        df1.loc[x,'gp_age']=2\n",
    "    elif df1.loc[x,'Age'] < 64:\n",
    "        df1.loc[x,'gp_age']=3\n",
    "    elif df1.loc[x,'Age'] <= 80:\n",
    "        df1.loc[x,'gp_age']=4\n",
    "df1.info()"
   ]
  },
  {
   "cell_type": "code",
   "execution_count": 24,
   "metadata": {},
   "outputs": [],
   "source": [
    "df['f_cnt']=df['SibSp']+df['Parch']\n",
    "df1['f_cnt']=df1['SibSp']+df1['Parch']"
   ]
  },
  {
   "cell_type": "code",
   "execution_count": 25,
   "metadata": {},
   "outputs": [
    {
     "name": "stdout",
     "output_type": "stream",
     "text": [
      "['PassengerId', 'Survived', 'Pclass', 'Name', 'Sex', 'Age', 'SibSp', 'Parch', 'Ticket', 'Fare', 'Cabin', 'Embarked', 'gp_age', 'f_cnt']\n"
     ]
    }
   ],
   "source": [
    "#df.Survived=df.Survived.astype('category')\n",
    "df.Sex=df.Sex.astype('category')\n",
    "df.Embarked=df.Embarked.astype('category')\n",
    "l=list(df.columns.values)\n",
    "l1=['Pclass','Sex','Fare']\n",
    "l2=['Survived']\n",
    "print (l)"
   ]
  },
  {
   "cell_type": "code",
   "execution_count": 26,
   "metadata": {},
   "outputs": [
    {
     "name": "stdout",
     "output_type": "stream",
     "text": [
      "           Pclass        Fare\n",
      "count  891.000000  891.000000\n",
      "mean     2.308642   32.447545\n",
      "std      0.836071   49.570235\n",
      "min      1.000000    4.012500\n",
      "25%      2.000000    7.925000\n",
      "50%      3.000000   14.454200\n",
      "75%      3.000000   31.000000\n",
      "max      3.000000  512.329200\n"
     ]
    }
   ],
   "source": [
    "plt.style.use('ggplot')\n",
    "x_train=df[l1]\n",
    "min_max=MinMaxScaler()\n",
    "print(x_train.describe())\n",
    "x_train=min_max.fit_transform(x_train)\n",
    "#print(x_train.describe())\n",
    "y_train=df[l2]\n",
    "x_test=df1[l1]\n",
    "x_test=min_max.fit_transform(x_test)"
   ]
  },
  {
   "cell_type": "code",
   "execution_count": 27,
   "metadata": {},
   "outputs": [
    {
     "name": "stdout",
     "output_type": "stream",
     "text": [
      "Sex\n",
      "0    0.188908\n",
      "1    0.742038\n",
      "Name: Survived, dtype: float64\n"
     ]
    }
   ],
   "source": [
    "gp=df.groupby('Sex')\n",
    "print(gp['Survived'].agg(np.mean))"
   ]
  },
  {
   "cell_type": "code",
   "execution_count": 28,
   "metadata": {},
   "outputs": [
    {
     "name": "stdout",
     "output_type": "stream",
     "text": [
      "  Sex  Survived\n",
      "0   0  0.188908\n",
      "1   1  0.742038\n"
     ]
    }
   ],
   "source": [
    "print(df[['Sex', 'Survived']].groupby('Sex', as_index=False).mean())"
   ]
  },
  {
   "cell_type": "code",
   "execution_count": 29,
   "metadata": {},
   "outputs": [
    {
     "data": {
      "image/png": "[encoded data removed]",
      "text/plain": [
       "<Figure size 432x288 with 1 Axes>"
      ]
     },
     "metadata": {},
     "output_type": "display_data"
    }
   ],
   "source": [
    "plt.hist(x=df.f_cnt[df['Survived']==1],bins=(5))\n",
    "plt.show()"
   ]
  },
  {
   "cell_type": "code",
   "execution_count": 30,
   "metadata": {},
   "outputs": [
    {
     "data": {
      "text/plain": [
       "GridSearchCV(cv=2, error_score='raise',\n",
       "       estimator=KNeighborsClassifier(algorithm='auto', leaf_size=30, metric='minkowski',\n",
       "           metric_params=None, n_jobs=1, n_neighbors=5, p=2,\n",
       "           weights='uniform'),\n",
       "       fit_params=None, iid=True, n_jobs=1,\n",
       "       param_grid={'n_neighbors': array([ 1,  2,  3,  4,  5,  6,  7,  8,  9, 10, 11, 12, 13, 14, 15, 16, 17,\n",
       "       18, 19, 20, 21, 22, 23, 24, 25, 26, 27, 28, 29, 30, 31, 32, 33, 34,\n",
       "       35, 36, 37, 38, 39, 40, 41, 42, 43, 44, 45, 46, 47, 48, 49])},\n",
       "       pre_dispatch='2*n_jobs', refit=True, return_train_score='warn',\n",
       "       scoring=None, verbose=0)"
      ]
     },
     "execution_count": 30,
     "metadata": {},
     "output_type": "execute_result"
    }
   ],
   "source": [
    "param_grid={'n_neighbors':np.arange(1,50)}\n",
    "knn=KNeighborsClassifier()\n",
    "knn_cv=GridSearchCV(knn,param_grid,cv=2)\n",
    "knn_cv.fit(x_train,y_train)"
   ]
  },
  {
   "cell_type": "code",
   "execution_count": 31,
   "metadata": {},
   "outputs": [
    {
     "name": "stdout",
     "output_type": "stream",
     "text": [
      "0.8125701459034792\n",
      "{'n_neighbors': 36}\n"
     ]
    }
   ],
   "source": [
    "print (knn_cv.best_score_)\n",
    "print (knn_cv.best_params_)"
   ]
  },
  {
   "cell_type": "code",
   "execution_count": 32,
   "metadata": {},
   "outputs": [],
   "source": [
    "y_pred=knn_cv.predict(x_test)"
   ]
  },
  {
   "cell_type": "code",
   "execution_count": 33,
   "metadata": {},
   "outputs": [],
   "source": [
    "df1['Survived']=y_pred"
   ]
  },
  {
   "cell_type": "code",
   "execution_count": 34,
   "metadata": {},
   "outputs": [
    {
     "name": "stdout",
     "output_type": "stream",
     "text": [
      "<class 'pandas.core.frame.DataFrame'>\n",
      "RangeIndex: 418 entries, 0 to 417\n",
      "Data columns (total 1 columns):\n",
      "PassengerId    418 non-null int64\n",
      "dtypes: int64(1)\n",
      "memory usage: 3.3 KB\n"
     ]
    }
   ],
   "source": [
    "df2=pd.DataFrame(df1.loc[:,'PassengerId'])\n",
    "df2.info()"
   ]
  },
  {
   "cell_type": "code",
   "execution_count": 35,
   "metadata": {},
   "outputs": [],
   "source": [
    "df2['Survived']=df1['Survived']\n",
    "df2.to_csv('submission.csv',index=False)"
   ]
  },
  {
   "cell_type": "code",
   "execution_count": 36,
   "metadata": {},
   "outputs": [],
   "source": [
    "l=list(df.columns.values)\n",
    "names=['Pclass','Sex','Embarked', 'gp_age', 'f_cnt']"
   ]
  },
  {
   "cell_type": "code",
   "execution_count": 37,
   "metadata": {},
   "outputs": [
    {
     "data": {
      "image/png": "[encoded data removed]",
      "text/plain": [
       "<Figure size 432x288 with 1 Axes>"
      ]
     },
     "metadata": {},
     "output_type": "display_data"
    }
   ],
   "source": [
    "lasso=Lasso(alpha=0.1)\n",
    "x_try=df[names]\n",
    "lasso_coef=lasso.fit(x_try,y_train).coef_\n",
    "_=plt.plot(range(len(names)),lasso_coef)\n",
    "plt.show()"
   ]
  },
  {
   "cell_type": "code",
   "execution_count": 38,
   "metadata": {},
   "outputs": [
    {
     "name": "stdout",
     "output_type": "stream",
     "text": [
      "['Pclass', 'Sex', 'Embarked', 'gp_age', 'f_cnt']\n"
     ]
    }
   ],
   "source": [
    "print (names)"
   ]
  },
  {
   "cell_type": "code",
   "execution_count": null,
   "metadata": {},
   "outputs": [],
   "source": []
  }
 ],
 "metadata": {
  "kernelspec": {
   "display_name": "Python 3",
   "language": "python",
   "name": "python3"
  },
  "language_info": {
   "codemirror_mode": {
    "name": "ipython",
    "version": 3
   },
   "file_extension": ".py",
   "mimetype": "text/x-python",
   "name": "python",
   "nbconvert_exporter": "python",
   "pygments_lexer": "ipython3",
   "version": "3.6.5"
  }
 },
 "nbformat": 4,
 "nbformat_minor": 2
}
